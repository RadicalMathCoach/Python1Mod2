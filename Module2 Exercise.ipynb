{
 "cells": [
  {
   "cell_type": "markdown",
   "metadata": {},
   "source": [
    "## Exercises\n",
    "### Write the pseudocode for these problems. \n",
    "\n",
    "#### Define the problem by constructing an IPO diagram showing input, output, and processing steps\n",
    "Ask yourself\n",
    "- What control structures (sequence, selection and repetition) are required?\n",
    "- What variables are required?\n",
    "\n",
    "Show a check of your solution with **test data** for at least **two valid test cases**\n",
    "If you use the numbers provided in the example then the correct pseudocode will calculate the same result.\n",
    "    "
   ]
  },
  {
   "cell_type": "markdown",
   "metadata": {},
   "source": [
    "#### 1. Find the average score\n",
    "A program is needed to prompt the user operator for exam scores, calculate the average score and display the result to the screen. The average score is calculated as the sum of the scores divided by the number of scores."
   ]
  },
  {
   "cell_type": "markdown",
   "metadata": {},
   "source": [
    "BEGIN\n",
    "     PRINT \"How many exam scores will you enter?\"\n",
    "     GET number_of_scores\n",
    "\n",
    "    SET total_score = 0\n",
    "    SET i = 1\n",
    "\n",
    "    FOR i <= number_of_scores\n",
    "        DISPLAY \"Enter score for exam \"  i  \":\"\n",
    "        GET score\n",
    "        ADD score TO total_score\n",
    "        \n",
    "        i = i + 1\n",
    "    END FOR\n",
    "\n",
    "    CALCULATE average = total_score/number_of_scores\n",
    "    DISPLAY \"The average score is:\", average\n",
    "\n",
    "\n",
    "END"
   ]
  },
  {
   "cell_type": "markdown",
   "metadata": {},
   "source": [
    "#### 2. How much water runs off a roof in a rain storm?\n",
    "To calculate the runoff from any given rainfall: Take the dimensions of the footprint of the roof and convert them to inches. (So, a 50' x 20' roof is 600\" x 240\"). Multiply the roof dimensions by the number of inches of rainfall. As an example, 600\" x 240\" x 1\" = 144,000 cubic inches of water for an inch of rainfall. Divide that result by 231 to get the number of gallons (because 1 gallon = 231 cubic inches). (144,000/231 = 623.38)."
   ]
  },
  {
   "cell_type": "markdown",
   "metadata": {},
   "source": [
    "START\n",
    "print(\"ENTER ROOF LENGTH IN FEET\")\n",
    "GET length_in_feet\n",
    "Convert Length_in_feet to length_in_inches(length_in_inches=length_in_feet*12)\n",
    "print(\"ENTER ROOF WIDTH IN FEET\")\n",
    "GET Width_in_feet\n",
    "Convert width_in_feet to width_in_inches(width_in_inches=width_in_feet*12)\n",
    "print(\"ENTER RAINFALL IN INCHES\"\n",
    "GET rainfall_in_inches\n",
    "runoff_volume_in_cubic_inches=length_in_inches*width_in_inches*rainfall_in_inches\n",
    "runoff_volume_in_gallons=(runoff_volume_in_cubic_inches)/231\n",
    "print(\"Runoff Volume in Gallons is\",runoff_volume_in_gallons, \"gallons\")\n",
    "END\n"
   ]
  },
  {
   "cell_type": "markdown",
   "metadata": {},
   "source": [
    "#### 3. Process customer record\n",
    "A program is required to read a customer’s name, a purchase amount and a tax code. The tax code has been validated and will be one of the following: 0 tax exempt (0%) 1 state sales tax only (3%) 2 federal and state sales tax (5%) 3 special sales tax (7%) The program must then compute the sales tax and the total amount due,and print the customer’s name, purchase amount, sales tax and total amount due."
   ]
  },
  {
   "cell_type": "code",
   "execution_count": null,
   "metadata": {},
   "outputs": [],
   "source": [
    "START\n",
    "Print(\"Enter customer name\")\n",
    "GET customer_name\n",
    "Print(\"Enter purchase amount\")\n",
    "GET purchase_amount\n",
    "Print(\"Enter tax code(0,1,2 or 3)\")\n",
    "GET tax_code\n",
    "if tax_code=0 then tax_rate=0\n",
    "elif tax_code=1 then tax_rate=3\n",
    "elif tax_code=2 then tax_rate=5\n",
    "elif tax_code=3 then tax_rate=7\n",
    "sales_tax=purchase_amount*tax_rate/100\n",
    "total_amount_due=purchase_amount + sales_tax\n",
    "print(sales_tax, \"is the sales tax\")\n",
    "print(total_amount_due, \"is the Total Amount due\")\n",
    "END"
   ]
  },
  {
   "cell_type": "markdown",
   "metadata": {},
   "source": [
    "#### 4. Calculate employee's pay \n",
    "A program is required by a company to read an employee’s number, pay rate and the number of hours worked in a week. The program is then to validate the pay rate field and the hours worked field and, if valid, compute the employee’s weekly pay and then print it and the input data.\n",
    "\n",
    "Validation: According to the company’s rules, the maximum hours an employee can work per week is 60 hours, and the maximum hourly rate is $25.00 per hour. If the hours worked field or the hourly rate field is out of range, the input data and an appropriate message are to be printed and the employee’s weekly pay is not to be calculated.\n",
    "\n",
    "Weekly pay calculation: Weekly pay is calculated as hours worked times pay rate. If more than 35 hours are worked, payment for the overtime hours worked is calculated at time-and-a-half."
   ]
  },
  {
   "cell_type": "code",
   "execution_count": null,
   "metadata": {},
   "outputs": [],
   "source": [
    "print('Enter employee number')\n",
    "input() = employee_number\n",
    "print('Enter pay rate')\n",
    "pay_rate = float(input())\n",
    "print(\"enter hours worked\")\n",
    "hours_worked = float(input())\n",
    "if pay_rate >25: \n",
    "    print(\"invalid\")\n",
    "    exit()\n",
    "if hours_worked <=35 : weekly_pay=pay_rate*hours_worked\n",
    "else: weekly_pay=pay_rate*35+1.5*pay_rate*(hours_worked-35)\n",
    "print(weekly_pay, \"is the weekly pay\")"
   ]
  }
 ],
 "metadata": {
  "kernelspec": {
   "display_name": "Python 3 (ipykernel)",
   "language": "python",
   "name": "python3"
  },
  "language_info": {
   "codemirror_mode": {
    "name": "ipython",
    "version": 3
   },
   "file_extension": ".py",
   "mimetype": "text/x-python",
   "name": "python",
   "nbconvert_exporter": "python",
   "pygments_lexer": "ipython3",
   "version": "3.11.5"
  }
 },
 "nbformat": 4,
 "nbformat_minor": 2
}
